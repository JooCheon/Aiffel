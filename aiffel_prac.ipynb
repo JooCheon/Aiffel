{
  "nbformat": 4,
  "nbformat_minor": 0,
  "metadata": {
    "colab": {
      "provenance": [],
      "authorship_tag": "ABX9TyNSuQQdBUXQ2z2x3C6SrBcp",
      "include_colab_link": true
    },
    "kernelspec": {
      "name": "python3",
      "display_name": "Python 3"
    },
    "language_info": {
      "name": "python"
    }
  },
  "cells": [
    {
      "cell_type": "markdown",
      "metadata": {
        "id": "view-in-github",
        "colab_type": "text"
      },
      "source": [
        "<a href=\"https://colab.research.google.com/github/JooCheon/Aiffel/blob/main/aiffel_prac.ipynb\" target=\"_parent\"><img src=\"https://colab.research.google.com/assets/colab-badge.svg\" alt=\"Open In Colab\"/></a>"
      ]
    },
    {
      "cell_type": "code",
      "source": [
        "import random\n",
        "call_list = [1,2,3,4,5,6,7,8,9,10,11,11,12,12,13,13,14,14,15,15,16,16,17,17,18,18,19,19,20,21,22,23,24,25,26,27,28,29,30] #주머니\n",
        "print(call_list)\n",
        "front_list = []\n",
        "middle_list = []\n",
        "tail_list = []\n",
        "\n",
        "for i in range(20) :\n",
        "  input = random.sample(call_list,1) #사회자가 부른거\n",
        "  input_index = call_list.index(input[0])\n",
        "  call_list.pop(input_index) #주머니에서 빼기\n",
        "\n",
        "  if input[0] <=10:\n",
        "    if len(front_list)<=5 :\n",
        "      front_list.append(input[0])\n",
        "      # print(front_list)\n",
        "    else:\n",
        "      if len(middle_list) <=10:\n",
        "        middle_list.append(input[0])\n",
        "      else:\n",
        "        if len(tail_list) <= 5:\n",
        "          tail_list.append(input[0])\n",
        "  elif input[0] > 10 and input[0] <= 19:\n",
        "    if len(middle_list) <= 10:\n",
        "      middle_list.append(input[0])\n",
        "    else:\n",
        "      if len(tail_list) <= 5:\n",
        "        tail_list.append(input[0])\n",
        "  else:\n",
        "    if len(tail_list) <= 5:\n",
        "      tail_list.append(input[0])\n",
        "\n",
        "result_list = front_list + middle_list + tail_list\n",
        "\n",
        "calculator_list = [0]*19\n",
        "for i in range(19):\n",
        "  if result_list[i+1]-result_list[i] >=0:\n",
        "    calculator_list[i] = 1\n",
        "  else:\n",
        "    calculator_list[i] = 0\n",
        "# print(calculator_list)\n",
        "\n",
        "score_board = {\n",
        "    0 : 0,\n",
        "    1 : 1,\n",
        "    2 : 3,\n",
        "    3 : 5,\n",
        "    4 : 7,\n",
        "    5 : 9,\n",
        "    6 : 11,\n",
        "    7 : 15,\n",
        "    8 : 20,\n",
        "    9 : 25,\n",
        "    10 : 30,\n",
        "    11 : 35,\n",
        "    12 : 40,\n",
        "    13 : 50,\n",
        "    14 : 60,\n",
        "    15 : 70,\n",
        "    16 : 85,\n",
        "    17 : 100,\n",
        "    18 : 150,\n",
        "    19 : 300\n",
        "}\n",
        "\n",
        "score_list = []\n",
        "score = 0\n",
        "for i in range(len(calculator_list)):\n",
        "  if calculator_list[i] == 1 :\n",
        "    score+=1\n",
        "  else:\n",
        "    score_list.append(score)\n",
        "    score = 0\n",
        "\n",
        "# print(score_list)\n",
        "final_score = 0\n",
        "for i in score_list:\n",
        "  tmp = score_board[i]\n",
        "  final_score += tmp\n",
        "\n",
        "print(final_score)\n"
      ],
      "metadata": {
        "colab": {
          "base_uri": "https://localhost:8080/"
        },
        "id": "S_9lXNi3DzM3",
        "outputId": "70445102-327e-432e-c81d-9e7d289cf5df"
      },
      "execution_count": 16,
      "outputs": [
        {
          "output_type": "stream",
          "name": "stdout",
          "text": [
            "[1, 2, 3, 4, 5, 6, 7, 8, 9, 10, 11, 11, 12, 12, 13, 13, 14, 14, 15, 15, 16, 16, 17, 17, 18, 18, 19, 19, 20, 21, 22, 23, 24, 25, 26, 27, 28, 29, 30]\n",
            "15\n"
          ]
        }
      ]
    }
  ]
}